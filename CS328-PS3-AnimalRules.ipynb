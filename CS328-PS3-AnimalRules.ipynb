{
 "cells": [
  {
   "cell_type": "code",
   "execution_count": 1,
   "metadata": {
    "collapsed": true
   },
   "outputs": [],
   "source": [
    "# Run the top two cells in this notebook first, every time you reopen your notebook.\n",
    "%load_ext autoreload\n",
    "%autoreload 2"
   ]
  },
  {
   "cell_type": "code",
   "execution_count": 2,
   "metadata": {},
   "outputs": [],
   "source": [
    "%matplotlib inline\n",
    "# Some imports that may be helpful in later cells\n",
    "import numpy as np\n",
    "import matplotlib.pyplot as plt\n",
    "import animal_guessing_game as game\n",
    "import random \n",
    "import pandas as pd\n",
    "import seaborn as sns\n",
    "import itertools"
   ]
  },
  {
   "cell_type": "markdown",
   "metadata": {},
   "source": [
    "### Animal Guessing Game"
   ]
  },
  {
   "cell_type": "markdown",
   "metadata": {},
   "source": [
    "In the first few parts of this problem you'll be playing a guessing game. The computer chooses an animal at random, and your goal is to guess which animal has been chosen. You will first be shown two features of the animal and asked to make a guess. If you guess incorrectly, more features will be shown and you'll get more chances to guess the animal. Your score is the total number of tries it takes you to guess the animal. "
   ]
  },
  {
   "cell_type": "markdown",
   "metadata": {},
   "source": [
    "<div class=\"alert alert-success\">Play five iterations of the guessing game by uncommenting and running the cell below; your results will be saved in the data folder to allow you to analyze them later. You should also submit this file when you upload your assignment. (Note: Some of these features are rather odd - do your best).\n",
    "<p><p>\n",
    "After running the whole game and checking that your data file is saved in the data folder, you may want to comment out this cell so that you can use \"Run All\" to run all subsequent cells and not have to play the game each time.</div>"
   ]
  },
  {
   "cell_type": "code",
   "execution_count": 3,
   "metadata": {},
   "outputs": [],
   "source": [
    "#trials = game.play_game(\"data/classes.txt\",\"data/predicates.txt\", \"data/predicate-matrix-binary.txt\")"
   ]
  },
  {
   "cell_type": "markdown",
   "metadata": {},
   "source": [
    "<div class=\"alert alert-success\">Briefly, describe your experience playing the game. Did it become more difficult with more animals? Do you feel like this difficulty scaled linearly (i.e., was it twice as hard to play with twice as many animals, or was it less than twice as hard, or more than twice as hard)?</div>"
   ]
  },
  {
   "cell_type": "markdown",
   "metadata": {},
   "source": []
  },
  {
   "cell_type": "markdown",
   "metadata": {},
   "source": [
    "### Modeling the Animal Guessing Game: Rule-based categories"
   ]
  },
  {
   "cell_type": "markdown",
   "metadata": {},
   "source": [
    "<div class=\"alert alert-success\">Let's try to model the inferences made by players of this game using a simple program. Your model should play the game by looking at the given choices (animals) and observations (features) and ruling out possible hypotheses. Specifically, write a function <tt>guess(animal_choices, animal_features, animal_names, feature_names, feature_matrix)</tt>, where <tt>animal_choices</tt> and <tt>animal_features</tt> are the possibilities for the animal and the features that have been given to the model so far (animal_names, feature_names, and feature_matrix are the lists representing the data loaded from the text files) in <tt>animal_guessing_game.py</tt> which chooses uniformly at random one of the choices that matches all of the listed features. Uniformly at random means that all animals in <tt>animal_choices</tt> that have the listed features should be equally likely to be chosen.\n",
    "<p>\n",
    "In the cell below, test your <tt>guess</tt> function to make sure it behaves correctly.</div>"
   ]
  },
  {
   "cell_type": "code",
   "execution_count": 4,
   "metadata": {
    "collapsed": true
   },
   "outputs": [],
   "source": [
    "animal_names = game.load_name_data(\"data/classes.txt\")\n",
    "feature_names = game.load_name_data(\"data/predicates.txt\")\n",
    "feature_matrix = game.load_animal_feature_data(\"data/predicate-matrix-binary.txt\")\n",
    "\n",
    "def guess(animal_choices, animal_features, animal_names, feature_names, feature_matrix):\n",
    "    animal_inds = [animal_names.index(anim) for anim in animal_choices] #find indecies for animals\n",
    "    feature_inds = [feature_names.index(feat) for feat in animal_features] #find indecies for features\n",
    "    guesses = [] \n",
    "    for a in animal_inds: #find all animals that have all features\n",
    "         if all([feature_matrix[a][f] ==1 for f in feature_inds]): #if the animal has all of the features\n",
    "                guesses.append(animal_names[a])\n",
    "    return random.choice(guesses) #pick an animal at random that has all of the features\n"
   ]
  },
  {
   "cell_type": "code",
   "execution_count": 5,
   "metadata": {},
   "outputs": [
    {
     "data": {
      "text/plain": [
       "'rat'"
      ]
     },
     "execution_count": 5,
     "metadata": {},
     "output_type": "execute_result"
    }
   ],
   "source": [
    "animal_choices = ['rat', 'skunk', 'walrus', 'cow', 'siamese cat', 'bat', 'fox', 'rabbit', 'lion']\n",
    "animal_features = ['paws', 'smart']\n",
    "guess(animal_choices, animal_features, animal_names, feature_names, feature_matrix)"
   ]
  },
  {
   "cell_type": "markdown",
   "metadata": {},
   "source": [
    "<div class=\"alert alert-success\">Now, write a function <tt>model</tt> that will have your computer play 500 iterations of each of the five hypothesis sizes (2, 4, 8, 16, and 32). This function takes no parameters. You'll likely want to make a function like <tt>human_query</tt> for the computer model - e.g., <tt>computer_query</tt>. If you do this, you can use the <tt>run</tt> function that I've written to take care of much of the running of the game. One problem that may arise is what to pass in for stream, as you don't really want to print out all 500*5 games that the computer plays. Instead, you can omit writing out these games by opening a stream like this:\n",
    "<br>\n",
    "<tt>stream = open(os.devnull, 'w')</tt>\n",
    "</br>\n",
    "\n",
    "Pass this stream to the run function, and you won't see any output.\n",
    "<p>\n",
    "<tt>model</tt> does not need to return anything, but it should write out a data file with the model results to \"data/model_trial_data.txt\". This file should have 500 lines, each with 5 comma-separated numbers that correspond to the number of guesses for each hypothesis size. You're welcome to use the <tt>save_trial_data</tt> function that I wrote to help.\n",
    "<p><p>\n",
    "In the cell below, call your <tt>model</tt> function so that it runs and saves the data.\n",
    "<div>"
   ]
  },
  {
   "cell_type": "code",
   "execution_count": 6,
   "metadata": {},
   "outputs": [],
   "source": [
    "def setUpGame(h_size, animal_names, feature_names, feature_matrix):\n",
    "    feature_names = np.array(feature_names)\n",
    "    animals = random.sample(animal_names, h_size)\n",
    "    answer = animals[0] #first animal is the answer\n",
    "    f_indexes = np.array([f == 1 for f in feature_matrix[animal_names.index(answer)]])\n",
    "    features = feature_names[f_indexes]\n",
    "    return(animals, features)\n",
    "\n",
    "def runGame(h_size, animal_names, feature_names, feature_matrix):\n",
    "    results = []\n",
    "    for trial in range(500):\n",
    "        animals, features = setUpGame(h_size, animal_names, feature_names, feature_matrix)\n",
    "        #features = features.shuffle() #to make it random\n",
    "        g = \"wrong\"\n",
    "        tries = 0\n",
    "        correct = animals[0]\n",
    "        while g != correct: #loop until correct\n",
    "            ### \n",
    "            # To save time in computation, we will filter the animals so that animals\n",
    "            # filtered in a previus feature list are still filtered out\n",
    "            ##\n",
    "            animal_inds = [animal_names.index(anim) for anim in animals] #find indicies for animals\n",
    "            feature_inds = [feature_names.index(feat) for feat in features[:2+tries]] #find indicies for features (based on number of trials)\n",
    "            valid = []\n",
    "            for a in animal_inds: #find all animals that have all features\n",
    "                 if all([feature_matrix[a][f] ==1 for f in feature_inds]): #if the animal has all of the features\n",
    "                    valid.append(animal_names[a])\n",
    "            animals = valid\n",
    "            \n",
    "            #guess randomly\n",
    "            g = random.sample(animals,1)[0]\n",
    "            animals.remove(g) #don't guess the same animal twice \n",
    "            tries +=1\n",
    "            \n",
    "        results.append(tries)\n",
    "    return(results)\n",
    "    \n",
    "def model():\n",
    "    animal_names = game.load_name_data(\"data/classes.txt\")\n",
    "    feature_names = game.load_name_data(\"data/predicates.txt\")\n",
    "    feature_matrix = game.load_animal_feature_data(\"data/predicate-matrix-binary.txt\")\n",
    "    two = runGame(2, animal_names, feature_names, feature_matrix)\n",
    "    four = runGame(4, animal_names, feature_names, feature_matrix)\n",
    "    eight = runGame(8, animal_names, feature_names, feature_matrix)\n",
    "    sixteen = runGame(16, animal_names, feature_names, feature_matrix)\n",
    "    thirtytwo = runGame(32, animal_names, feature_names, feature_matrix)\n",
    "    results = []\n",
    "    for i in range(500):\n",
    "        row = [two[i],four[i],eight[i],sixteen[i],thirtytwo[i]]\n",
    "        results.append(row)\n",
    "    game.save_trial_data(results, 'data/model_trial_data.txt')       \n",
    "    \n",
    "model()"
   ]
  },
  {
   "cell_type": "markdown",
   "metadata": {},
   "source": [
    "### Modeling the Animal Guessing-Game: Knowledgeless Play"
   ]
  },
  {
   "cell_type": "markdown",
   "metadata": {},
   "source": [
    "<div class=\"alert alert-success\">The model above assumes the player knows all the animal-feature pairings. Imagine instead that the player knows only a subset of the feature pairings. We'll model this by assuming that we have a new player for each set of hypothesis sizes, and that player knows about <tt>n</tt> of the 85 features, where <tt>n</tt> is a parameter of the model. <tt>n</tt> random features are chosen, and when the model makes its guesses, it chooses a guess uniformly at random from those options that are consistent with the observed features that it knows about. If it doesn't know about an observed feature, it just ignores it. For example, if the model knows only about \"small\", and the observed features are \"small\" and \"strainteeth\", the model will choose an animal from the available choices that are small. Write a function <tt>bounded_model</tt> that takes in the argument <tt>n</tt> and plays 500 iterations of each of the 5 hypothesis sizes. It should write it's results to a file name \"data/bounded_model_trial_data_n.txt\", where the <tt>n</tt> is replaced by the value of the parameter <tt>n</tt>. Note that you can likely use a similar structure to the previous part - look at what parameters are taken in by the <tt>human_query</tt> function.\n",
    "<p>\n",
    "<p>\n",
    "In the cell below, run your model with n = 5 and then with n = 20.\n",
    "<div>"
   ]
  },
  {
   "cell_type": "code",
   "execution_count": 7,
   "metadata": {},
   "outputs": [],
   "source": [
    "def runGame_n(n, h_size, animal_names, feature_names, feature_matrix):\n",
    "    results = []\n",
    "    for trial in range(500):\n",
    "        animals, features = setUpGame(h_size, animal_names, feature_names, feature_matrix)\n",
    "        \n",
    "        \n",
    "        #Filter features down to just the ones it knows\n",
    "        knownFeatures = random.sample(feature_names,n)\n",
    "        features = list(filter(lambda x: x in knownFeatures, features))\n",
    "        \n",
    "        \n",
    "        g = \"wrong\"\n",
    "        tries = 0\n",
    "        correct = animals[0]\n",
    "        while g != correct: #loop until correct\n",
    "            ### \n",
    "            # To save time in computation, we will filter the animals so that animals\n",
    "            # filtered in a previus feature list are still filtered out\n",
    "            ##\n",
    "            animal_inds = [animal_names.index(anim) for anim in animals] #find indicies for animals\n",
    "            feature_inds = [feature_names.index(feat) for feat in features[:2+tries]] #find indicies for features (based on number of trials)\n",
    "            valid = []\n",
    "            for a in animal_inds: #find all animals that have all features\n",
    "                 if all([feature_matrix[a][f] ==1 for f in feature_inds]): #if the animal has all of the features\n",
    "                    valid.append(animal_names[a])\n",
    "            animals = valid\n",
    "            \n",
    "            #guess randomly\n",
    "            g = random.sample(animals,1)[0]\n",
    "            animals.remove(g) #don't guess the same animal twice \n",
    "            tries +=1\n",
    "            \n",
    "        results.append(tries)\n",
    "    return(results)\n",
    "    \n",
    "def bounded_model(n):\n",
    "    animal_names = game.load_name_data(\"data/classes.txt\")\n",
    "    feature_names = game.load_name_data(\"data/predicates.txt\")\n",
    "    feature_matrix = game.load_animal_feature_data(\"data/predicate-matrix-binary.txt\")\n",
    "    two = runGame_n(n,2, animal_names, feature_names, feature_matrix)\n",
    "    four = runGame_n(n,4, animal_names, feature_names, feature_matrix)\n",
    "    eight = runGame_n(n,8, animal_names, feature_names, feature_matrix)\n",
    "    sixteen = runGame_n(n,16, animal_names, feature_names, feature_matrix)\n",
    "    thirtytwo = runGame_n(n,32, animal_names, feature_names, feature_matrix)\n",
    "    results = []\n",
    "    for i in range(500):\n",
    "        row = [two[i],four[i],eight[i],sixteen[i],thirtytwo[i]]\n",
    "        results.append(row)\n",
    "    game.save_trial_data(results, 'data/bounded_model_trial_data_{}.txt'.format(n))       \n",
    "    \n",
    "bounded_model(5)\n",
    "bounded_model(20)"
   ]
  },
  {
   "cell_type": "markdown",
   "metadata": {},
   "source": [
    "### Analyzing the Results"
   ]
  },
  {
   "cell_type": "markdown",
   "metadata": {},
   "source": [
    "<div class=\"alert alert-success\">In the cell below, write code to graph the trial data for each of your models as well as trial data that I've included from 294 people who played this game previously (stored in \"data/old_trial_data.txt\"). Make a line graph with separate lines for each model and for the people, where the x-axis represents the size of the hypothesis set and the y-axis represents the number of guesses. Plot the average across trials - e.g., while 294 people played the game, you'll have just one line for people and the y-value for hypothesis size 2 will the be average number of guesses people required when they had a hypothesis set of size 2. As for all graphs, please make sure your graph is appropriately labeled.\n",
    "\n",
    "</div>"
   ]
  },
  {
   "cell_type": "code",
   "execution_count": 8,
   "metadata": {},
   "outputs": [
    {
     "data": {
      "image/png": "[encoded data removed]",
      "text/plain": [
       "<matplotlib.figure.Figure at 0x10ef0ce80>"
      ]
     },
     "metadata": {},
     "output_type": "display_data"
    }
   ],
   "source": [
    "model_base = pd.read_csv('data/model_trial_data.txt',names = ['2','4','8','16','32'])\n",
    "model_5 = pd.read_csv('data/bounded_model_trial_data_5.txt',names = ['2','4','8','16','32'])\n",
    "model_20 = pd.read_csv('data/bounded_model_trial_data_20.txt',names = ['2','4','8','16','32'])\n",
    "humans = pd.read_csv('data/old_trial_data.txt',names = ['2','4','8','16','32'])\n",
    "model_base['Version']='Know All features'\n",
    "model_5['Version']='Know 5 features'\n",
    "model_20['Version']='Know 20 featues'\n",
    "humans['Version']='Humans'\n",
    "allModels = model_base.append(model_20).append(model_5).append(humans).reset_index(drop=True)\n",
    "melted = allModels.melt(id_vars=['Version'],var_name='Hypothesis Size', value_name = \"Tries before correct\")\n",
    "melted['Hypothesis Size'] = pd.to_numeric(melted['Hypothesis Size'])\n",
    "\n",
    "\n",
    "f, axes = plt.subplots(2, 1, figsize=(7, 7), sharex=False)\n",
    "sns.lineplot(x=\"Hypothesis Size\",y=\"Tries before correct\",hue=\"Version\",data=melted, err_style=None, ax=axes[0]).set_title(\"Line Graph of Mean Guesses per Hypothesis Size\")\n",
    "sns.boxplot(x=\"Hypothesis Size\",y=\"Tries before correct\",hue=\"Version\",data=melted, ax=axes[1]).set_title(\"Box Plot of Guesses per Hypothesis Size\")\n",
    "plt.setp(axes, yticks=[])\n",
    "plt.tight_layout()"
   ]
  },
  {
   "cell_type": "markdown",
   "metadata": {},
   "source": [
    "<div class=\"alert alert-success\">How do the performances of the models compare to one another and to people? Are there systematic differences between each set of data for how the number of guesses scales with the number of animal choices? Explain your answers. Which model do you think provides the closest match to people? The furthest? For the model that is closest, explain whether you think this model is a good account of people's inductive inferences in this type of guessing games? For the model that is furthest, why do you think this model behaves differently from people? (I.e., what is missing in the model or what assumptions are incorrect that cause it to be a poor account of people's behavior?)\n",
    "</div>"
   ]
  },
  {
   "cell_type": "markdown",
   "metadata": {
    "collapsed": true
   },
   "source": [
    "The more features that are considered, the better the model does. This is why knowing all or 20 features models outperform the 5 feature models. This makes sense because when a model knows more features, it can eliminate more animals each round of guessing. In regards to performance, humans perform most cloesly to 'know 5 features' model. The furthest is the 'know all features model.' However, I don't think that the 'know 5 features' model is the closest to the way humans do this test. When I played the game, I think my errors had less to do with not knowing features (which I almost always knew all of them) and more to do with flawed or lazy elimination of animals. However, its for this same reason that I think that the 'knowing all the features' method is the most different because there is no way I considered every single feature when I am eliminating animals. "
   ]
  },
  {
   "cell_type": "markdown",
   "metadata": {},
   "source": [
    "### Finding Rule-based Categories"
   ]
  },
  {
   "cell_type": "markdown",
   "metadata": {},
   "source": [
    "(Definitions) One of the attractive features of the logical perspective on the world is that it seems to make categorization easy: we can just specify a definition of a category (e.g. \"an even number is an integer that can be divided by 2 with no remainder\") and check if something belongs to the category by checking if it satisfies the rule. In the next set of questions, you'll use the same dataset as in the previous parts to explore this idea.\n"
   ]
  },
  {
   "cell_type": "markdown",
   "metadata": {},
   "source": [
    "<div class=\"alert alert-success\">\n",
    "In <tt>animal_guessing_game.py</tt>, write a function <tt>find_simplest_rule(target_animal, animal_names, features_names, feature_matrix)</tt> which takes as parameters an animal name, a list of animal names, a list of feature names, and a binary 2-dimensional list of animal-feature pairs (the feature matrix); as in previous parts, each inner list is one animal. This function should find the simplest conjunctive rule for identifying the given animal. A rule identifies an animal if it is true for the target animal and false for all other animals. The rule may include conjunctions of features or their negations. For example, the rule \"lean and not strainteeth\" would include all animals that have the feature lean and do not have the feature strainteeth. Your function should return a dictionary that has two keys: positive_features, where the value is a list of the names of features that are not negated; and negative_features, where the value is a list of the names of features that are negated. For example, the rule above would be represented by the following dictionary: <tt>{\"positive_features\" : [\"lean\"], \"negative_features\" : [\"strainteeth\"]}</tt>. The dictionary should return the simplest rule that identifies the target animal. The simplest rule is defined as the one that contains the fewest features (whether or not they are negated).\n",
    "</div>"
   ]
  },
  {
   "cell_type": "markdown",
   "metadata": {},
   "source": [
    "<div class=\"alert alert-success\">\n",
    "In the cell below, include some tests to make sure your function works. At the end, print out the best rule for identifying \"elephant\" if you give the function all possible features but only include the first 25 animals (that is, the length of animal_names should be 25 and the length of feature matrix should also be 25).\n",
    "</div>"
   ]
  },
  {
   "cell_type": "code",
   "execution_count": 73,
   "metadata": {},
   "outputs": [
    {
     "name": "stdout",
     "output_type": "stream",
     "text": [
      "{'positive_features': ['tusks'], 'negative_features': []}\n"
     ]
    }
   ],
   "source": [
    "animal_names = game.load_name_data(\"data/classes.txt\")\n",
    "feature_names = game.load_name_data(\"data/predicates.txt\")\n",
    "feature_matrix = game.load_animal_feature_data(\"data/predicate-matrix-binary.txt\")\n",
    "\n",
    "animal_names_filtered = animal_names[:25]\n",
    "target_animal = 'elephant'\n",
    "print(game.find_simplest_rule(target_animal, animal_names_filtered, feature_names, feature_matrix))"
   ]
  },
  {
   "cell_type": "markdown",
   "metadata": {},
   "source": [
    "<div class=\"alert alert-success\">\n",
    "In the cell below, print out all animals in the full dataset of 50 animals that are consistent with the \"elephant\" rule you created above.\n",
    "</div>"
   ]
  },
  {
   "cell_type": "code",
   "execution_count": 67,
   "metadata": {},
   "outputs": [
    {
     "name": "stdout",
     "output_type": "stream",
     "text": [
      "elephant\n",
      "rhinoceros\n",
      "walrus\n"
     ]
    }
   ],
   "source": [
    "rules = {'positive_features': ['tusks'], 'negative_features': []}\n",
    "positive_index = feature_names.index('tusks')\n",
    "animal_names = game.load_name_data(\"data/classes.txt\")\n",
    "for i in range(len(animal_names)):\n",
    "    if feature_matrix[i][positive_index]==1:\n",
    "        print(animal_names[i])"
   ]
  },
  {
   "cell_type": "markdown",
   "metadata": {},
   "source": [
    "<div class=\"alert alert-success\">\n",
    "You may have found that your original rule did not work for the complete dataset, although you could use your function to find a new rule that does work for all 50 animals. If you were to refine your rule with the full dataset, do you think that the new rule would be consistent with all animals you might come in contact with in the world (both elephants and not)? Would continually refining your rule as you come into contact with more animals be an effective way to maintain a correct logical definition of each animal category? Explain your answers and discuss how you think this relates to whether logical definitions are a good model of categorization.\n",
    "</div>\n"
   ]
  },
  {
   "cell_type": "markdown",
   "metadata": {},
   "source": [
    "If we were to introduce the rule to real life, I'm sure that the algorithm would have to be updated constantly when new examples were given. For instance, even if you perfectly defined an elephant, you'd have to specify that elephants are alive when shown a taxadermy elephant. Continually redefining the rule is not a good way to define something because it will never converge and stop changing and there are exeptions (an elephant that has had its tusks cut off and poached is still an elephant). Therefore, it seems that logical definitions are a poor model ot categorize things."
   ]
  },
  {
   "cell_type": "markdown",
   "metadata": {},
   "source": [
    "<div class=\"alert alert-success\">\n",
    "Assume people do maintain logical definitions of categories. Your function above finds the simplest rule for a particular animal. How does this run time of this function scale with the number of possible features and the number of possible animals? Do you think that the way this scales is a reasonable approximation for how people might form logical categories? Explain why or why not.\n",
    "</div>"
   ]
  },
  {
   "cell_type": "markdown",
   "metadata": {},
   "source": [
    "In the worst-case runtime, my function will check every set in the powerset of features against every animal. So the runtime for this function is approximately $O\\bigg(\\sum_{i=1}^{f}\\big( {f \\choose i}\\times \\text{a}\\big)\\bigg)$ Where $f=$ number of features and $a=$ number of animals. "
   ]
  },
  {
   "cell_type": "code",
   "execution_count": null,
   "metadata": {
    "collapsed": true
   },
   "outputs": [],
   "source": []
  }
 ],
 "metadata": {
  "kernelspec": {
   "display_name": "Python 3",
   "language": "python",
   "name": "python3"
  },
  "language_info": {
   "codemirror_mode": {
    "name": "ipython",
    "version": 3
   },
   "file_extension": ".py",
   "mimetype": "text/x-python",
   "name": "python",
   "nbconvert_exporter": "python",
   "pygments_lexer": "ipython3",
   "version": "3.6.1"
  }
 },
 "nbformat": 4,
 "nbformat_minor": 1
}
